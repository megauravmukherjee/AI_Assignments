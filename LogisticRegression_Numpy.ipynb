{
 "cells": [
  {
   "cell_type": "code",
   "execution_count": 6,
   "id": "0dbdffa9-9fec-483b-ada8-1ea3eaad7586",
   "metadata": {},
   "outputs": [],
   "source": [
    "import matplotlib.pyplot as plt\n",
    "import numpy as np\n",
    "import pandas as pd\n",
    "from sklearn.model_selection import train_test_split"
   ]
  },
  {
   "cell_type": "code",
   "execution_count": 7,
   "id": "91949c9d-b24a-4e8a-b886-51babe5c485b",
   "metadata": {},
   "outputs": [],
   "source": [
    "def sigmoid(z):\n",
    "    return 1. / (1 + np.exp(-z))\n",
    "\n",
    "\n",
    "def z(theta, x):\n",
    "    assert theta.shape[1] == 1\n",
    "    assert theta.shape[0] == x.shape[1]  # Theta should have as many rows as x has features.\n",
    "    return np.dot(x, theta)\n",
    "\n",
    "\n",
    "def hypothesis(theta, x):\n",
    "    return sigmoid(z(theta, x))\n",
    "\n",
    "\n",
    "def cost(theta, x, y):\n",
    "    assert x.shape[1] == theta.shape[0]  # x has a column for each feature, theta has a row for each feature.\n",
    "    assert x.shape[0] == y.shape[0]  # One row per sample.\n",
    "    assert y.shape[1] == 1\n",
    "    assert theta.shape[1] == 1\n",
    "    h = hypothesis(theta, x)\n",
    "    one_case = np.matmul(-y.T, np.log(h))\n",
    "    zero_case = np.matmul(-(1 - y).T, np.log(1 - h))\n",
    "    return (one_case + zero_case) / len(x)\n",
    "\n",
    "\n",
    "def gradient_descent(theta, x, y, learning_rate, regularization = 0):\n",
    "    regularization = theta * regularization\n",
    "    error = hypothesis(theta, x) - y\n",
    "    n = (learning_rate / len(x)) * (np.matmul(x.T, error) + regularization)\n",
    "    return theta - n\n",
    "\n",
    "\n",
    "def minimize(theta, x, y, iterations, learning_rate, regularization = 0):\n",
    "    costs = []\n",
    "    for _ in range(iterations):\n",
    "        theta = gradient_descent(theta, x, y, learning_rate, regularization)\n",
    "        costs.append(cost(theta, x, y)[0][0])\n",
    "    return theta, costs"
   ]
  },
  {
   "cell_type": "code",
   "execution_count": 10,
   "id": "4d53a4f3-14d6-4638-b275-50e2943f3abd",
   "metadata": {},
   "outputs": [
    {
     "data": {
      "image/png": "[encoded data removed]",
      "text/plain": [
       "<Figure size 640x480 with 1 Axes>"
      ]
     },
     "metadata": {},
     "output_type": "display_data"
    },
    {
     "name": "stdout",
     "output_type": "stream",
     "text": [
      "0.008697856305831224\n"
     ]
    },
    {
     "data": {
      "text/plain": [
       "1.0"
      ]
     },
     "execution_count": 10,
     "metadata": {},
     "output_type": "execute_result"
    }
   ],
   "source": [
    "mushroom_data = pd.read_csv(\"C:\\\\Users\\\\Gaurav Mukherjee\\\\Documents\\\\Machine Learning\\\\mushrooms.csv\")\n",
    "mushroom_x = pd.get_dummies(mushroom_data.drop('class', axis=1))\n",
    "mushroom_x['bias'] = 1\n",
    "mushroom_x = mushroom_x.values\n",
    "mushroom_y = (np.atleast_2d(mushroom_data['class']).T == 'p').astype(int)\n",
    "\n",
    "x_train, x_test, y_train, y_test = train_test_split(mushroom_x, mushroom_y, train_size=0.85, test_size=0.15)\n",
    "candidate = np.atleast_2d([ np.random.uniform(-1, 1, 118) ]).T\n",
    "theta, costs = minimize(candidate, x_train, y_train, 1200, 1.2, 0.5)\n",
    "plt.plot(range(len(costs)), costs)\n",
    "plt.show()\n",
    "print(costs[-1])\n",
    "\n",
    "predictions = x_test.dot(theta) > 0\n",
    "len(list(filter(lambda x: x[0] == x[1], np.dstack((predictions, y_test))[:,0]))) / len(predictions)"
   ]
  },
  {
   "cell_type": "code",
   "execution_count": null,
   "id": "8a03e0ee-8402-4a53-808f-0046ed64d3b5",
   "metadata": {},
   "outputs": [],
   "source": []
  }
 ],
 "metadata": {
  "kernelspec": {
   "display_name": "Python 3 (ipykernel)",
   "language": "python",
   "name": "python3"
  },
  "language_info": {
   "codemirror_mode": {
    "name": "ipython",
    "version": 3
   },
   "file_extension": ".py",
   "mimetype": "text/x-python",
   "name": "python",
   "nbconvert_exporter": "python",
   "pygments_lexer": "ipython3",
   "version": "3.11.7"
  }
 },
 "nbformat": 4,
 "nbformat_minor": 5
}
